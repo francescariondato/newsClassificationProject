{
 "cells": [
  {
   "attachments": {},
   "cell_type": "markdown",
   "id": "f5646f19",
   "metadata": {},
   "source": [
    "# News Classification Project\n",
    "### It Coding for Data Science - Module II"
   ]
  },
  {
   "attachments": {},
   "cell_type": "markdown",
   "id": "57f2a2ba",
   "metadata": {},
   "source": [
    "**Author**: Francesca Mariana Riondato\n",
    "\n",
    "**Student ID**: 5205965\n",
    "\n",
    "**email**: francesca.riondato01@icatt.it"
   ]
  },
  {
   "attachments": {},
   "cell_type": "markdown",
   "id": "c8302eeb",
   "metadata": {},
   "source": [
    "The project uses the APIs of New York Times (Archive) to retrieve the data, applies NLP methods and classifies the news into section names (target classes), using the following attributes: \n",
    "- Keywords\n",
    "- News desk\n",
    "- Author"
   ]
  },
  {
   "attachments": {},
   "cell_type": "markdown",
   "id": "e4c54667",
   "metadata": {},
   "source": [
    "The class News is created to handle better the data. "
   ]
  },
  {
   "cell_type": "code",
   "execution_count": 6,
   "id": "47727f13",
   "metadata": {},
   "outputs": [],
   "source": [
    "class News:\n",
    "    def __init__(self, id, author, keywords, news_desk, section_name):\n",
    "        self._id = id\n",
    "        self._author = author\n",
    "        self._keywords = keywords\n",
    "        self._news_desk = news_desk\n",
    "        self._section_name = section_name #target category\n",
    "    \n",
    "    def getSectionName(self):\n",
    "        return self._section_name\n",
    "\n",
    "    def replaceSectionName(self):\n",
    "        if self._section_name in ['Reader Center', 'Briefing', 'U.S.', 'The Upshot', 'New York', 'Admin', 'Today’s Paper', 'Corrections', 'Business Day', 'Sunday Review', 'World', 'Obituaries', 'Opinion']:\n",
    "            self._section_name = 'Breaking News'\n",
    "        elif self._section_name in ['Real Estate', 'Guides', 'Style', 'Fashion & Style', 'Food', 'Education', 'Magazine', 'Smarter Living', 'Travel', 'Your Money', 'Neediest Cases']:\n",
    "            self._section_name = 'Lifestyle'\n",
    "        elif self._section_name in ['Arts', 'Books', 'T Magazine', 'Theater', 'Movies', 'Crosswords & Games', 'Podcasts', 'Lens', 'The Learning Network', 'Multimedia/Photos', 'T Brand', 'Watching']:\n",
    "            self._section_name = 'Arts & Entertainment'\n",
    "        elif self._section_name in ['Science', 'Technology', 'Climate', 'Health', 'Well']:\n",
    "            self._section_name = 'Technology & Science'\n",
    "    \n",
    "    def find_synonyms(self, word_list):\n",
    "        synonyms = set()\n",
    "        for word in word_list: \n",
    "            for synset in wordnet.synsets(word):\n",
    "                for lemma in synset.lemmas(): #base form of the synomym\n",
    "                    synonyms.add(lemma.name())\n",
    "        return ' '.join(list(synonyms))\n",
    "    \n",
    "    def preprocessing(self):\n",
    "        #predefined set of words with little semantic meaning \n",
    "        stopWords = set(nltk.corpus.stopwords.words(\"english\"))\n",
    "        #find synonyms of keywords\n",
    "        kwords_syn = self.find_synonyms(self._keywords)\n",
    "        \n",
    "        #split text into tokens\n",
    "        tokenizer = nltk.tokenize.RegexpTokenizer(r'\\w+') #tokenizer of text on pattern (seq of alphanum characters)\n",
    "        text = f\"{self._keywords} {kwords_syn} {self._news_desk} {self._author}\" #analysed attributes\n",
    "        tokens = tokenizer.tokenize(text.lower()) #normalisation\n",
    "        final = []\n",
    "        for t in tokens:\n",
    "            if len(t)>1 and t not in stopWords: #only meaningful words\n",
    "                if not all(char in string.punctuation for char in t): #remove punctuation marks\n",
    "                    if not t.isdigit(): #delete numbers\n",
    "                        if t not in final: #no duplicates\n",
    "                            final.append(t)\n",
    "        return ' '.join(final) "
   ]
  },
  {
   "attachments": {},
   "cell_type": "markdown",
   "id": "d84c982c",
   "metadata": {},
   "source": [
    "The list containing all the news is created. "
   ]
  }
 ],
 "metadata": {
  "kernelspec": {
   "display_name": "Python 3 (ipykernel)",
   "language": "python",
   "name": "python3"
  },
  "language_info": {
   "codemirror_mode": {
    "name": "ipython",
    "version": 3
   },
   "file_extension": ".py",
   "mimetype": "text/x-python",
   "name": "python",
   "nbconvert_exporter": "python",
   "pygments_lexer": "ipython3",
   "version": "3.9.13"
  }
 },
 "nbformat": 4,
 "nbformat_minor": 5
}
